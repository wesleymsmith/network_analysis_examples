{
 "cells": [
  {
   "cell_type": "code",
   "execution_count": 1,
   "metadata": {},
   "outputs": [],
   "source": [
    "import numpy as np\n",
    "import pandas as pd\n",
    "import scipy as sp\n",
    "import seaborn as sns\n",
    "import pytraj as pt\n",
    "import nglview as nv"
   ]
  },
  {
   "cell_type": "markdown",
   "metadata": {},
   "source": [
    "Warning: google colab does not seem to support nglview. Attempting to use nglview in google colab will cause it to crash.\n",
    "\n",
    "some python 3 users may need to enable widgets and nglview before it will render.\n",
    "\n",
    "to do so, go to the command line and run\n",
    "\n",
    "   >jupyter-nbextension enable --py --user widgetsnbextension\n",
    "   > \n",
    "   >jupyter-nbextension enable --py --user nglview"
   ]
  },
  {
   "cell_type": "code",
   "execution_count": 2,
   "metadata": {},
   "outputs": [
    {
     "name": "stdout",
     "output_type": "stream",
     "text": [
      "--- loading trajectory data ---\n",
      "loading igps.apo\n",
      "pytraj.TrajectoryIterator, 500 frames: \n",
      "Size: 0.080746 (GB)\n",
      "<Topology: 7225 atoms, 456 residues, 4 mols, PBC with box type = ortho>\n",
      "           \n",
      "--- --- ---\n",
      "loading igps.holo\n",
      "pytraj.TrajectoryIterator, 500 frames: \n",
      "Size: 0.081372 (GB)\n",
      "<Topology: 7281 atoms, 455 residues, 3 mols, PBC with box type = ortho>\n",
      "           \n",
      "--- --- ---\n",
      "done loading trajectory data\n"
     ]
    }
   ],
   "source": [
    "strucDir='structures'\n",
    "\n",
    "protNames=['igps']\n",
    "\n",
    "variants=['apo','holo']\n",
    "\n",
    "baseFileString='{protName}.prot_lig_{variant}.{ext}'\n",
    "\n",
    "topExt='parm7'\n",
    "trajExt='dcd'\n",
    "\n",
    "trajDict={}\n",
    "print ('--- loading trajectory data ---')\n",
    "for protName in protNames:\n",
    "    for variant in variants:\n",
    "        dictKey='{protName}.{variant}'.format(\n",
    "            protName=protName,variant=variant)\n",
    "        trajFileName=baseFileString.format(\n",
    "            protName=protName,variant=variant,ext=trajExt)\n",
    "        trajFilePath='/'.join([strucDir,trajFileName])\n",
    "        topFileName=baseFileString.format(\n",
    "            protName=protName,variant=variant,ext=topExt)\n",
    "        topFilePath='/'.join([strucDir,topFileName])\n",
    "        print ('loading {systemKey}'.format(systemKey=dictKey))\n",
    "        trajDict[dictKey]=pt.iterload(trajFilePath,top=topFilePath)\n",
    "        print (trajDict[dictKey])\n",
    "        print ('--- --- ---')\n",
    "print ('done loading trajectory data')"
   ]
  },
  {
   "cell_type": "code",
   "execution_count": 7,
   "metadata": {},
   "outputs": [
    {
     "data": {
      "application/vnd.jupyter.widget-view+json": {
       "model_id": "9e55c212f54642039dd80124c1b5aab0",
       "version_major": 2,
       "version_minor": 0
      },
      "text/plain": [
       "NGLWidget(count=500)"
      ]
     },
     "metadata": {},
     "output_type": "display_data"
    },
    {
     "name": "stderr",
     "output_type": "stream",
     "text": [
      "Exception ignored in: 'pytraj.utils.cyutils.get_positive_idx'\n",
      "ValueError: index is out of range\n",
      "Exception ignored in: 'pytraj.utils.cyutils.get_positive_idx'\n",
      "ValueError: index is out of range\n",
      "Exception ignored in: 'pytraj.utils.cyutils.get_positive_idx'\n",
      "ValueError: index is out of range\n",
      "Exception ignored in: 'pytraj.utils.cyutils.get_positive_idx'\n",
      "ValueError: index is out of range\n",
      "Exception ignored in: 'pytraj.utils.cyutils.get_positive_idx'\n",
      "ValueError: index is out of range\n",
      "Exception ignored in: 'pytraj.utils.cyutils.get_positive_idx'\n",
      "ValueError: index is out of range\n",
      "Exception ignored in: 'pytraj.utils.cyutils.get_positive_idx'\n",
      "ValueError: index is out of range\n"
     ]
    }
   ],
   "source": [
    "view=nv.show_pytraj(trajDict['igps.apo'])\n",
    "view.clear_representations()\n",
    "view.add_representation('cartoon')\n",
    "view.add_representation('spacefill',selection='455, 456')\n",
    "view"
   ]
  },
  {
   "cell_type": "code",
   "execution_count": 8,
   "metadata": {},
   "outputs": [
    {
     "data": {
      "application/vnd.jupyter.widget-view+json": {
       "model_id": "b284e053014442838999a03d1fe9b617",
       "version_major": 2,
       "version_minor": 0
      },
      "text/plain": [
       "NGLWidget(count=500)"
      ]
     },
     "metadata": {},
     "output_type": "display_data"
    },
    {
     "name": "stderr",
     "output_type": "stream",
     "text": [
      "Exception ignored in: 'pytraj.utils.cyutils.get_positive_idx'\n",
      "ValueError: index is out of range\n",
      "Exception ignored in: 'pytraj.utils.cyutils.get_positive_idx'\n",
      "ValueError: index is out of range\n",
      "Exception ignored in: 'pytraj.utils.cyutils.get_positive_idx'\n",
      "ValueError: index is out of range\n",
      "Exception ignored in: 'pytraj.utils.cyutils.get_positive_idx'\n",
      "ValueError: index is out of range\n",
      "Exception ignored in: 'pytraj.utils.cyutils.get_positive_idx'\n",
      "ValueError: index is out of range\n",
      "Exception ignored in: 'pytraj.utils.cyutils.get_positive_idx'\n",
      "ValueError: index is out of range\n"
     ]
    }
   ],
   "source": [
    "view=nv.show_pytraj(trajDict['igps.holo'])\n",
    "view.clear_representations()\n",
    "view.add_representation('cartoon')\n",
    "view.add_representation('spacefill',selection='455')\n",
    "view"
   ]
  },
  {
   "cell_type": "code",
   "execution_count": null,
   "metadata": {},
   "outputs": [],
   "source": []
  }
 ],
 "metadata": {
  "kernelspec": {
   "display_name": "Python 3",
   "language": "python",
   "name": "python3"
  },
  "language_info": {
   "codemirror_mode": {
    "name": "ipython",
    "version": 3
   },
   "file_extension": ".py",
   "mimetype": "text/x-python",
   "name": "python",
   "nbconvert_exporter": "python",
   "pygments_lexer": "ipython3",
   "version": "3.7.3"
  }
 },
 "nbformat": 4,
 "nbformat_minor": 2
}
