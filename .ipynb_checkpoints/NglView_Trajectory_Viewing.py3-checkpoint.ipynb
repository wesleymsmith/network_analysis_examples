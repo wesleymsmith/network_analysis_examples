{
 "cells": [
  {
   "cell_type": "code",
   "execution_count": 12,
   "metadata": {},
   "outputs": [],
   "source": [
    "import numpy as np\n",
    "import pandas as pd\n",
    "import scipy as sp\n",
    "import seaborn as sns\n",
    "import pytraj as pt\n",
    "import nglview as nv\n",
    "import ipywidgets\n",
    "from ipywidgets import interact"
   ]
  },
  {
   "cell_type": "markdown",
   "metadata": {},
   "source": [
    "Warning: If you don't have pytraj installed, go to the command line and run\n",
    "   >-conda install pytraj -c ambermd\n",
    "\n",
    "google colab does not seem to support nglview. Attempting to use nglview in google colab will cause it to crash.\n",
    "\n",
    "some python 3 users may need to enable widgets and nglview before it will render.\n",
    "\n",
    "to do so, go to the command line and run\n",
    "\n",
    "   >jupyter-nbextension enable --py --user widgetsnbextension\n",
    "   > \n",
    "   >jupyter-nbextension enable --py --user nglview\n",
    "   \n",
    "If ipywidgets installed ok, but still no nglview, you need to run\n",
    "   >-conda install -c conda-forge nglview"
   ]
  },
  {
   "cell_type": "code",
   "execution_count": 13,
   "metadata": {},
   "outputs": [
    {
     "name": "stdout",
     "output_type": "stream",
     "text": [
      "--- loading trajectory data ---\n",
      "loading igps.apo\n",
      "pytraj.TrajectoryIterator, 500 frames: \n",
      "Size: 0.080746 (GB)\n",
      "<Topology: 7225 atoms, 456 residues, 4 mols, PBC with box type = ortho>\n",
      "           \n",
      "--- --- ---\n",
      "loading igps.holo\n",
      "pytraj.TrajectoryIterator, 500 frames: \n",
      "Size: 0.081372 (GB)\n",
      "<Topology: 7281 atoms, 455 residues, 3 mols, PBC with box type = ortho>\n",
      "           \n",
      "--- --- ---\n",
      "done loading trajectory data\n"
     ]
    }
   ],
   "source": [
    "strucDir='structures'\n",
    "\n",
    "protNames=['igps']\n",
    "\n",
    "variants=['apo','holo']\n",
    "\n",
    "baseFileString='{protName}.prot_lig_{variant}.{ext}'\n",
    "\n",
    "topExt='parm7'\n",
    "trajExt='dcd'\n",
    "\n",
    "trajDict={}\n",
    "print ('--- loading trajectory data ---')\n",
    "for protName in protNames:\n",
    "    for variant in variants:\n",
    "        dictKey='{protName}.{variant}'.format(\n",
    "            protName=protName,variant=variant)\n",
    "        trajFileName=baseFileString.format(\n",
    "            protName=protName,variant=variant,ext=trajExt)\n",
    "        trajFilePath='/'.join([strucDir,trajFileName])\n",
    "        topFileName=baseFileString.format(\n",
    "            protName=protName,variant=variant,ext=topExt)\n",
    "        topFilePath='/'.join([strucDir,topFileName])\n",
    "        print ('loading {systemKey}'.format(systemKey=dictKey))\n",
    "        trajDict[dictKey]=pt.iterload(trajFilePath,top=topFilePath)\n",
    "        print (trajDict[dictKey])\n",
    "        print ('--- --- ---')\n",
    "print ('done loading trajectory data')"
   ]
  },
  {
   "cell_type": "code",
   "execution_count": 16,
   "metadata": {},
   "outputs": [
    {
     "data": {
      "application/vnd.jupyter.widget-view+json": {
       "model_id": "b11f8d1bb2cc4c0d9252641de50e3f56"
      }
     },
     "metadata": {},
     "output_type": "display_data"
    }
   ],
   "source": [
    "viewApo=nv.show_pytraj(trajDict['igps.apo'])\n",
    "viewApo.clear_representations()\n",
    "viewApo.add_representation('cartoon')\n",
    "viewApo.add_representation('spacefill',selection='NOT 1-454')\n",
    "viewApo"
   ]
  },
  {
   "cell_type": "code",
   "execution_count": 15,
   "metadata": {},
   "outputs": [
    {
     "data": {
      "application/vnd.jupyter.widget-view+json": {
       "model_id": "54e3e77a80c5445c81ed88b879fccc67"
      }
     },
     "metadata": {},
     "output_type": "display_data"
    }
   ],
   "source": [
    "viewHolo=nv.show_pytraj(trajDict['igps.holo'])\n",
    "viewHolo.clear_representations()\n",
    "viewHolo.add_representation('cartoon')\n",
    "viewHolo.add_representation('spacefill',selection='NOT 1-454')\n",
    "viewHolo"
   ]
  },
  {
   "cell_type": "code",
   "execution_count": null,
   "metadata": {
    "collapsed": true
   },
   "outputs": [],
   "source": []
  }
 ],
 "metadata": {
  "kernelspec": {
   "display_name": "Python 3",
   "language": "python",
   "name": "python3"
  },
  "language_info": {
   "codemirror_mode": {
    "name": "ipython",
    "version": 3
   },
   "file_extension": ".py",
   "mimetype": "text/x-python",
   "name": "python",
   "nbconvert_exporter": "python",
   "pygments_lexer": "ipython3",
   "version": "3.6.1"
  }
 },
 "nbformat": 4,
 "nbformat_minor": 2
}
